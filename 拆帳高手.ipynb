{
 "cells": [
  {
   "cell_type": "code",
   "execution_count": 26,
   "metadata": {},
   "outputs": [],
   "source": [
    "list1=[100,200,300,400,500]"
   ]
  },
  {
   "cell_type": "code",
   "execution_count": 27,
   "metadata": {},
   "outputs": [],
   "source": [
    "import random\n",
    "import math\n",
    "import numpy as np"
   ]
  },
  {
   "cell_type": "code",
   "execution_count": 28,
   "metadata": {},
   "outputs": [
    {
     "data": {
      "text/plain": [
       "[100, 500, 300]"
      ]
     },
     "execution_count": 28,
     "metadata": {},
     "output_type": "execute_result"
    }
   ],
   "source": [
    "random.sample(list1,3)"
   ]
  },
  {
   "cell_type": "code",
   "execution_count": 29,
   "metadata": {},
   "outputs": [],
   "source": [
    "N=len(list1)\n",
    "max_bill=[]\n",
    "total=sum(list1)\n",
    "billtotal=sum(max_bill)\n",
    "budget=1000\n",
    "fq=math.ceil(budget/(np.mean(list1)))\n"
   ]
  },
  {
   "cell_type": "code",
   "execution_count": 31,
   "metadata": {},
   "outputs": [
    {
     "name": "stdout",
     "output_type": "stream",
     "text": [
      "5 4\n"
     ]
    },
    {
     "data": {
      "text/plain": [
       "5.0"
      ]
     },
     "execution_count": 31,
     "metadata": {},
     "output_type": "execute_result"
    }
   ],
   "source": [
    "print(N,fq)\n",
    "def Choose(N,fq):\n",
    "    a=0\n",
    "    a=(math.factorial(N)/math.factorial(N-fq))/math.factorial(fq)\n",
    "    return(a)\n",
    "Choose(N,fq)"
   ]
  },
  {
   "cell_type": "code",
   "execution_count": 34,
   "metadata": {},
   "outputs": [
    {
     "name": "stdout",
     "output_type": "stream",
     "text": [
      "5 1100\n",
      "[[500, 400, 200, 100], [500, 300, 400, 100], [200, 300, 400, 100], [100, 400, 500, 300], [400, 500, 100, 200]]\n"
     ]
    }
   ],
   "source": [
    "n=0\n",
    "suit_bill=[]\n",
    "while billtotal<total:\n",
    "    sum(random.sample(list1,fq))\n",
    "    if budget < sum(random.sample(list1,fq)):\n",
    "        billtotal=sum(random.sample(list1,fq))\n",
    "        n+=1\n",
    "        suit_bill.append(random.sample(list1,fq))\n",
    "    if n==Choose(N,fq):\n",
    "        break\n",
    "print(n,billtotal)\n",
    "print(suit_bill)"
   ]
  },
  {
   "cell_type": "code",
   "execution_count": null,
   "metadata": {},
   "outputs": [],
   "source": []
  },
  {
   "cell_type": "code",
   "execution_count": null,
   "metadata": {},
   "outputs": [],
   "source": []
  }
 ],
 "metadata": {
  "kernelspec": {
   "display_name": "Python 3",
   "language": "python",
   "name": "python3"
  },
  "language_info": {
   "codemirror_mode": {
    "name": "ipython",
    "version": 3
   },
   "file_extension": ".py",
   "mimetype": "text/x-python",
   "name": "python",
   "nbconvert_exporter": "python",
   "pygments_lexer": "ipython3",
   "version": "3.7.3"
  }
 },
 "nbformat": 4,
 "nbformat_minor": 2
}
